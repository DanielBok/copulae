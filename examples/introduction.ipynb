{
 "cells": [
  {
   "cell_type": "markdown",
   "metadata": {},
   "source": [
    "# An introduction to copulas"
   ]
  },
  {
   "cell_type": "markdown",
   "metadata": {},
   "source": [
    "## Caveat\n",
    "\n",
    "To start off, I'd like to caveat that I'll try and do my best to explain what a copula is. I'll do my best to keep it as simple as possible so that a person with some basic concepts of probability and distribution functions can understand it. In doing so, I may be imprecise and quite likely, flat out wrong. To my astute readers, if you do catch a mistake or know a better way of describing the content, please contact me so we can discuss and improve the quality of this article.\n",
    "\n",
    "### The audience\n",
    "\n",
    "This is an article for beginners. If you're an undergrad who took some basic courses in math and statistics, then you're in the right place. If you need a primer on some probability and distributions, read this [quick primer](https://copulae.readthedocs.io/en/latest/examples/A-Quick-Primer-on-Probability-and-Distributions.html).\n",
    "\n",
    "There would be *almost* no math here. So no Sklar's theorem, Fretchet-Hoffding bounds, etc, etc. Alrighty, let's start *yet another* introduction to copulas."
   ]
  },
  {
   "cell_type": "markdown",
   "metadata": {},
   "source": [
    "## A simple explanation of Copulas\n",
    "\n",
    "From [Wikipedia](https://en.wikipedia.org/wiki/Copula_(probability_theory))'s definition:\n",
    "\n",
    "> A copula is a multivariate cumulative distribution function for which the marginal probability distribution of each\n",
    "variable is uniform on the interval [0, 1]. Copulas are used to describe the dependence between random variables.\n",
    "\n",
    "What did those 2 sentences mean? This could be a little hard to digest at the start. No worries, we'll run through some simple examples to elucidate the concept. To do so, we'll tackle these few keywords\n",
    "\n",
    "1. **multivariate cumulative distribution function**\n",
    "2. **marginal probability distribution** (for which each variable is uniform between the interval [0, 1])"
   ]
  },
  {
   "cell_type": "markdown",
   "metadata": {},
   "source": [
    "### Multivariate distributions\n",
    "\n",
    "In school, we likely have studied multivariate distributions in the form of multivariate Gaussian distributions. This means we have at least 2 data series, each with their own mean and variance, and with their joint distribution described by a correlation matrix."
   ]
  },
  {
   "cell_type": "code",
   "execution_count": 1,
   "metadata": {},
   "outputs": [
    {
     "data": {
      "text/plain": [
       "<seaborn.axisgrid.JointGrid at 0x2301e50f5b0>"
      ]
     },
     "execution_count": 1,
     "metadata": {},
     "output_type": "execute_result"
    },
    {
     "data": {
      "image/png": "[encoded data removed]",
      "text/plain": [
       "<Figure size 432x432 with 3 Axes>"
      ]
     },
     "metadata": {
      "needs_background": "light"
     },
     "output_type": "display_data"
    }
   ],
   "source": [
    "from scipy.stats import multivariate_normal as mvn\n",
    "\n",
    "import pandas as pd\n",
    "import seaborn as sns\n",
    "\n",
    "\n",
    "# the multivariate gaussian can simply be described by the means and covariance matrix too\n",
    "cov_matrix = [[2, -0.45],\n",
    "              [-0.45, 3]]\n",
    "means = [3.3, -2.1]\n",
    "\n",
    "mvn_dist = mvn(mean = means, cov = cov_matrix)\n",
    "mvn_rvs = pd.DataFrame(mvn_dist.rvs(10000), columns=[\"Margin 1\", \"Margin 2\"])\n",
    "\n",
    "sns.jointplot(\"Margin 1\", \"Margin 2\", data=mvn_rvs, kind='kde', height=6)"
   ]
  },
  {
   "cell_type": "markdown",
   "metadata": {},
   "source": [
    "Based on the following parameterizations\n",
    "\n",
    "```python\n",
    "cov_matrix = [[2, -0.45],\n",
    "              [-0.45, 3]]\n",
    "means = [3.3, -2.1]\n",
    "\n",
    "# The correlation matrix is\n",
    "corr_matrix = [[ 1.        , -0.18371173],\n",
    "               [-0.18371173,  1.        ]]\n",
    "\n",
    "# There is a helper function to retrieve the correlation matrix from the covariance matrix\n",
    "from copulae.core import cov2corr, corr2cov\n",
    "```\n",
    "\n",
    "We see that this multivariate Gaussian has 2 marginal components. One is a $N(3, \\sqrt{2})$ and the other is $N(-2.1, \\sqrt{3})$. We could now take two values and plug it into the multivariate Gaussian's CDF to find out what the probability of finding that vector of numbers or less. For example,"
   ]
  },
  {
   "cell_type": "code",
   "execution_count": 2,
   "metadata": {},
   "outputs": [
    {
     "name": "stdout",
     "output_type": "stream",
     "text": [
      "Probability of seeing (-10, -2) or less: 0.0\n",
      "Probability of seeing (2, -2) or less: 0.0744\n",
      "Probability of seeing (10, 10) or less: 1.0\n"
     ]
    }
   ],
   "source": [
    "def find_prob(a: float, b: float):\n",
    "    print(f\"Probability of seeing ({a}, {b}) or less: {round(mvn_dist.cdf([a, b]), 4)}\")\n",
    "\n",
    "find_prob(-10, -2)\n",
    "find_prob(2, -2)\n",
    "find_prob(10, 10)"
   ]
  },
  {
   "cell_type": "markdown",
   "metadata": {},
   "source": [
    "Let's write some definitions and what we've just seen in some pseudo math. \n",
    "\n",
    "$\n",
    "\\begin{align}\n",
    "X_1 &\\sim N(3, \\sqrt{2}) \\\\\n",
    "X_2 &\\sim N(-2.1, \\sqrt(3)) \\\\\n",
    "F_1(x_1) &= \\text{Normal Marginal 1 CDF} \\\\\n",
    "         &= u_1 \\\\\n",
    "F_2(x_1) &= \\text{Normal Marginal 2 CDF} \\\\\n",
    "         &= u_2 \\\\\n",
    "F^{-1}_1(u_1) &= \\text{Quantile Function 1} \\\\\n",
    "              &= x_1 \\\\\n",
    "F^{-1}_2(u_2) &= \\text{Quantile Function 2} \\\\\n",
    "              &= x_2 \\\\\n",
    "P(X_1, X_2) &= \\text{Probability of seeing the two numbers} \\\\\n",
    "            &= c \\left( F^{-1}_1(u_1), F^{-1}_2(u_2) \\right)\n",
    "\\end{align}\n",
    "$\n",
    "\n",
    "where $c(\\cdot)$ is a magical (pdf) function that takes in the marginal values and returns the probability of seeing the values. You might want to ask, why did we write it in such a complicated manner? Why not write is simply as $C(x_1, x_2)$? The answer to that is because this is the *secret* to what a copula is. \n",
    "\n",
    "In the multivariate Gaussian case, $C$ is the Guassian distribution also defined by the correlation. However, imagine if we could now\n",
    "\n",
    "1. Switch the function $C$, such that we are no longer restricted to a Gaussian but could also use a Student-T or any other type of dependency structure\n",
    "2. We could switch out the marginals, such that we could have an Student-T marginal for one and a Laplace distribution for another\n",
    "\n",
    "As you see in the example above, using a CDF function, we can convert a variable to a number between `[0, 1]`. And using a quantile function, we can convert a variable between `[0, 1]` to any value within the distribution. The flexibility to switch the marginals and dependency structure is in effect what a copula is and what makes it so flexible in fitting data."
   ]
  },
  {
   "cell_type": "markdown",
   "metadata": {},
   "source": [
    "### Back to the definitions\n",
    "\n",
    "> A copula is a multivariate cumulative distribution function for which the marginal probability distribution of each\n",
    "variable is uniform on the interval `[0, 1]`. Copulas are used to describe the dependence between random variables.\n",
    "\n",
    "In textbooks, a copula is usually defined like \n",
    "\n",
    "$$\n",
    "C(u_1, u_2, \\dots, u_n) = P(U_1 \\leq u_1, U_2 \\leq u_2, \\dots, U_n \\leq u_n)\n",
    "$$\n",
    "\n",
    "Where $U$ symbolizes a uniform random variable between `[0, 1]`. Based on what we've learn above, we start by rewriting parts of the formula. \n",
    "\n",
    "First off, some pseudo math rewriting\n",
    "\n",
    "$\n",
    "U_1 \\leq u_1 \\sim \\text{looks like a CDF} \\\\\n",
    "F_1(x_1) = P(X_1 \\leq x_1)\n",
    "$\n",
    "\n",
    "This means, as long as we can convert something to a uniform variable, we can put it in a copula and create some joint distributions. To solidify this concept, let's start by generating some random variables using the concepts we've seen."
   ]
  },
  {
   "cell_type": "markdown",
   "metadata": {},
   "source": [
    "### Generating data - \"Copula\" style\n",
    "\n",
    "Let's assume we are some super-powered divine entity. Maybe the God of Fortune if you're Taoist. Our daily job is to determine the returns of stocks for those silly human gamblers who call themselves investors. To do our job, we select a marginal distribution for each stock and also a joint distribution for all of them. The joint distribution we call the **dependency structure**. \n",
    "\n",
    "In this world that we are in, there are only 2 stocks, **A** and **B**. **A** follows a [Student distribution](https://en.wikipedia.org/wiki/Student%27s_t-distribution) with 16 df, 0.05 mean and 1.2 standard deviation. **B** follows a [Laplace distribution](https://en.wikipedia.org/wiki/Laplace_distribution) with a mean of 0.1 and 1.5 standard deviation. The dependency structure is a Gaussian copula with mean `[0, 0]` and covariance `[[1, 0.2], [0.2, 1]]`.\n",
    "\n",
    "Assuming today is day 0, let's do our job and randomly generate the returns profile for the 2 stocks for the next 10 days.\n",
    "\n",
    "The pseudo-algorithm for the process is as follows:"
   ]
  },
  {
   "cell_type": "code",
   "execution_count": 3,
   "metadata": {},
   "outputs": [
    {
     "data": {
      "text/plain": [
       "array([[ 0.38806706, -1.11841127],\n",
       "       [-0.91203162, -1.30750847],\n",
       "       [-0.00292548,  1.11925674],\n",
       "       [-0.26326151, -1.06840713],\n",
       "       [ 1.40624015, -1.43055686],\n",
       "       [-1.51817559, -0.26345209],\n",
       "       [ 0.5399121 , -2.01679549],\n",
       "       [ 0.25743544,  0.26011499],\n",
       "       [-0.49690066, -0.13122506],\n",
       "       [-0.04501576, -2.00171371]])"
      ]
     },
     "execution_count": 3,
     "metadata": {},
     "output_type": "execute_result"
    }
   ],
   "source": [
    "import numpy as np\n",
    "from scipy.stats import laplace, multivariate_normal as mvn, t\n",
    "\n",
    "np.random.seed(1234)\n",
    "m1 = t(df=16, loc=0.05, scale=1.2)  # marginal for stock A\n",
    "m2 = laplace(loc=0.1, scale=1.5)  # marginal for stock B\n",
    "ds = mvn(mean=[0, 0], cov=[[1, 0.2], [0.2, 1]])  # dependency structure\n",
    "\n",
    "# first we generate some random variables from the dependency structure\n",
    "rvs = ds.rvs(size=10)\n",
    "rvs"
   ]
  },
  {
   "cell_type": "markdown",
   "metadata": {},
   "source": [
    "Now that we have this set of random variables that describes the dependency structure for the 2 distributions, what we need to do next is to convert these variables into their respective distribution's values. This sounds confusing but is actually really simple.\n",
    "\n",
    "It's just a bunch of inverse transforms and cdfs."
   ]
  },
  {
   "cell_type": "code",
   "execution_count": 4,
   "metadata": {},
   "outputs": [
    {
     "data": {
      "text/html": [
       "<div>\n",
       "<style scoped>\n",
       "    .dataframe tbody tr th:only-of-type {\n",
       "        vertical-align: middle;\n",
       "    }\n",
       "\n",
       "    .dataframe tbody tr th {\n",
       "        vertical-align: top;\n",
       "    }\n",
       "\n",
       "    .dataframe thead th {\n",
       "        text-align: right;\n",
       "    }\n",
       "</style>\n",
       "<table border=\"1\" class=\"dataframe\">\n",
       "  <thead>\n",
       "    <tr style=\"text-align: right;\">\n",
       "      <th></th>\n",
       "      <th>x1</th>\n",
       "      <th>x2</th>\n",
       "    </tr>\n",
       "  </thead>\n",
       "  <tbody>\n",
       "    <tr>\n",
       "      <th>0</th>\n",
       "      <td>0.6510</td>\n",
       "      <td>0.1317</td>\n",
       "    </tr>\n",
       "    <tr>\n",
       "      <th>1</th>\n",
       "      <td>0.1809</td>\n",
       "      <td>0.0955</td>\n",
       "    </tr>\n",
       "    <tr>\n",
       "      <th>2</th>\n",
       "      <td>0.4988</td>\n",
       "      <td>0.8685</td>\n",
       "    </tr>\n",
       "    <tr>\n",
       "      <th>3</th>\n",
       "      <td>0.3962</td>\n",
       "      <td>0.1427</td>\n",
       "    </tr>\n",
       "    <tr>\n",
       "      <th>4</th>\n",
       "      <td>0.9202</td>\n",
       "      <td>0.0763</td>\n",
       "    </tr>\n",
       "    <tr>\n",
       "      <th>5</th>\n",
       "      <td>0.0645</td>\n",
       "      <td>0.3961</td>\n",
       "    </tr>\n",
       "    <tr>\n",
       "      <th>6</th>\n",
       "      <td>0.7054</td>\n",
       "      <td>0.0219</td>\n",
       "    </tr>\n",
       "    <tr>\n",
       "      <th>7</th>\n",
       "      <td>0.6016</td>\n",
       "      <td>0.6026</td>\n",
       "    </tr>\n",
       "    <tr>\n",
       "      <th>8</th>\n",
       "      <td>0.3096</td>\n",
       "      <td>0.4478</td>\n",
       "    </tr>\n",
       "    <tr>\n",
       "      <th>9</th>\n",
       "      <td>0.4820</td>\n",
       "      <td>0.0227</td>\n",
       "    </tr>\n",
       "  </tbody>\n",
       "</table>\n",
       "</div>"
      ],
      "text/plain": [
       "       x1      x2\n",
       "0  0.6510  0.1317\n",
       "1  0.1809  0.0955\n",
       "2  0.4988  0.8685\n",
       "3  0.3962  0.1427\n",
       "4  0.9202  0.0763\n",
       "5  0.0645  0.3961\n",
       "6  0.7054  0.0219\n",
       "7  0.6016  0.6026\n",
       "8  0.3096  0.4478\n",
       "9  0.4820  0.0227"
      ]
     },
     "execution_count": 4,
     "metadata": {},
     "output_type": "execute_result"
    }
   ],
   "source": [
    "from scipy.stats import norm\n",
    "\n",
    "# note that its 0 and 1 because in the multivariate normal distribution, we set the mean and variance\n",
    "# to 0 and 1 for both the distributions. If we had changed the mean and variance, we just need to alter\n",
    "# the values accordingly. The scale is standard deviation. So if you used a covariance matrix like \n",
    "# [[9, 4], [4, 16]], then the scale would be 3 and 4 respectively\n",
    "x1 = norm(loc=0, scale=1).cdf(rvs[:, 0])\n",
    "x2 = norm(loc=0, scale=1).cdf(rvs[:, 1])\n",
    "\n",
    "# remember that CDF converts a value to a number between [0, 1]. Which means the probability of seeing that\n",
    "# value or less\n",
    "pd.DataFrame({\"x1\": x1, \"x2\": x2}).round(4)"
   ]
  },
  {
   "cell_type": "markdown",
   "metadata": {},
   "source": [
    "After getting this variables between `[0, 1]`, you can then apply the inverse transform to get the distribution's values."
   ]
  },
  {
   "cell_type": "code",
   "execution_count": 5,
   "metadata": {},
   "outputs": [
    {
     "data": {
      "text/html": [
       "<div>\n",
       "<style scoped>\n",
       "    .dataframe tbody tr th:only-of-type {\n",
       "        vertical-align: middle;\n",
       "    }\n",
       "\n",
       "    .dataframe tbody tr th {\n",
       "        vertical-align: top;\n",
       "    }\n",
       "\n",
       "    .dataframe thead th {\n",
       "        text-align: right;\n",
       "    }\n",
       "</style>\n",
       "<table border=\"1\" class=\"dataframe\">\n",
       "  <thead>\n",
       "    <tr style=\"text-align: right;\">\n",
       "      <th></th>\n",
       "      <th>A</th>\n",
       "      <th>B</th>\n",
       "    </tr>\n",
       "  </thead>\n",
       "  <tbody>\n",
       "    <tr>\n",
       "      <th>0</th>\n",
       "      <td>0.5242</td>\n",
       "      <td>-1.9012</td>\n",
       "    </tr>\n",
       "    <tr>\n",
       "      <th>1</th>\n",
       "      <td>-1.0767</td>\n",
       "      <td>-2.3829</td>\n",
       "    </tr>\n",
       "    <tr>\n",
       "      <th>2</th>\n",
       "      <td>0.0464</td>\n",
       "      <td>2.1032</td>\n",
       "    </tr>\n",
       "    <tr>\n",
       "      <th>3</th>\n",
       "      <td>-0.2712</td>\n",
       "      <td>-1.7811</td>\n",
       "    </tr>\n",
       "    <tr>\n",
       "      <th>4</th>\n",
       "      <td>1.8198</td>\n",
       "      <td>-2.7203</td>\n",
       "    </tr>\n",
       "    <tr>\n",
       "      <th>5</th>\n",
       "      <td>-1.8710</td>\n",
       "      <td>-0.2494</td>\n",
       "    </tr>\n",
       "    <tr>\n",
       "      <th>6</th>\n",
       "      <td>0.7112</td>\n",
       "      <td>-4.5950</td>\n",
       "    </tr>\n",
       "    <tr>\n",
       "      <th>7</th>\n",
       "      <td>0.3641</td>\n",
       "      <td>0.4445</td>\n",
       "    </tr>\n",
       "    <tr>\n",
       "      <th>8</th>\n",
       "      <td>-0.5581</td>\n",
       "      <td>-0.0654</td>\n",
       "    </tr>\n",
       "    <tr>\n",
       "      <th>9</th>\n",
       "      <td>-0.0049</td>\n",
       "      <td>-4.5412</td>\n",
       "    </tr>\n",
       "  </tbody>\n",
       "</table>\n",
       "</div>"
      ],
      "text/plain": [
       "        A       B\n",
       "0  0.5242 -1.9012\n",
       "1 -1.0767 -2.3829\n",
       "2  0.0464  2.1032\n",
       "3 -0.2712 -1.7811\n",
       "4  1.8198 -2.7203\n",
       "5 -1.8710 -0.2494\n",
       "6  0.7112 -4.5950\n",
       "7  0.3641  0.4445\n",
       "8 -0.5581 -0.0654\n",
       "9 -0.0049 -4.5412"
      ]
     },
     "execution_count": 5,
     "metadata": {},
     "output_type": "execute_result"
    }
   ],
   "source": [
    "t_rvs = t(df=16, loc=0.05, scale=1.2).ppf(x1)\n",
    "laplace_rvs = laplace(loc=0.1, scale=1.5).ppf(x2)\n",
    "\n",
    "# Returns of Stock A and B in percentage\n",
    "pd.DataFrame({\"A\": t_rvs, \"B\": laplace_rvs}).round(4)"
   ]
  },
  {
   "cell_type": "markdown",
   "metadata": {},
   "source": [
    "That's it, that's how you generate random variables. \n",
    "\n",
    "Now let's explore how different this is from a multivariate distribution. However, let's switch to more extreme distributions to highlight the differences."
   ]
  },
  {
   "cell_type": "code",
   "execution_count": 6,
   "metadata": {},
   "outputs": [],
   "source": [
    "from scipy.stats import pareto, weibull_min\n",
    "\n",
    "\n",
    "def plot_extreme_jointplots(rvs):\n",
    "    x1 = norm(loc=0, scale=1).cdf(rvs[:, 0])\n",
    "    x2 = norm(loc=0, scale=1).cdf(rvs[:, 1])\n",
    "    df1 = pd.DataFrame({\n",
    "        \"A\": weibull_min(c=0.8, loc=0.05, scale=1.2).ppf(x1),\n",
    "        \"B\": pareto(b=4, loc=0.1, scale=1.5).ppf(x2)\n",
    "    })\n",
    "\n",
    "    sns.jointplot(\"A\", \"B\", data=df1, kind='kde', height=8,\n",
    "                  xlim=(df1.A.min(), 3), ylim=(df1.B.min(), 3))\n",
    "\n",
    "\n",
    "def plot_multivariate_normal_jointplots(rvs):\n",
    "    df1 = pd.DataFrame({\n",
    "        \"A\": rvs[:, 0],\n",
    "        \"B\": rvs[:, 1]\n",
    "    })\n",
    "\n",
    "    sns.jointplot(\"A\", \"B\", data=df1, kind='kde', height=8)"
   ]
  },
  {
   "cell_type": "code",
   "execution_count": 7,
   "metadata": {},
   "outputs": [
    {
     "data": {
      "image/png": "[encoded data removed]",
      "text/plain": [
       "<Figure size 576x576 with 3 Axes>"
      ]
     },
     "metadata": {
      "needs_background": "light"
     },
     "output_type": "display_data"
    }
   ],
   "source": [
    "np.random.seed(888)\n",
    "rvs = ds.rvs(size=10000)\n",
    "\n",
    "plot_extreme_jointplots(rvs)"
   ]
  },
  {
   "cell_type": "code",
   "execution_count": 8,
   "metadata": {
    "scrolled": false
   },
   "outputs": [
    {
     "data": {
      "image/png": "[encoded data removed]",
      "text/plain": [
       "<Figure size 576x576 with 3 Axes>"
      ]
     },
     "metadata": {
      "needs_background": "light"
     },
     "output_type": "display_data"
    }
   ],
   "source": [
    "plot_multivariate_normal_jointplots(rvs)"
   ]
  },
  {
   "cell_type": "markdown",
   "metadata": {},
   "source": [
    "Observe from the two plots above, how we started from a similar dependency structure but somehow got very different\n",
    "joint distributions. This is essentially a copula."
   ]
  },
  {
   "cell_type": "markdown",
   "metadata": {},
   "source": [
    "## The End\n",
    "\n",
    "That's it for this short introduction. Hope it shed some light on how a copula works. It's a pretty high level overview and ignores a lot of math. I hope to be able to write a more precise document on it in the near future (barring any work commitments 😩).\n",
    "\n",
    "But more than that, I also hope to write some example use-cases. I find that running through (pseudo) real-world practical examples is usually a better pedagogical tool after all. Till then.\n"
   ]
  }
 ],
 "metadata": {
  "celltoolbar": "Edit Metadata",
  "kernelspec": {
   "display_name": "Python 3",
   "language": "python",
   "name": "python3"
  },
  "language_info": {
   "codemirror_mode": {
    "name": "ipython",
    "version": 3
   },
   "file_extension": ".py",
   "mimetype": "text/x-python",
   "name": "python",
   "nbconvert_exporter": "python",
   "pygments_lexer": "ipython3",
   "version": "3.8.3"
  },
  "toc": {
   "base_numbering": 1,
   "nav_menu": {},
   "number_sections": true,
   "sideBar": true,
   "skip_h1_title": false,
   "title_cell": "Table of Contents",
   "title_sidebar": "Contents",
   "toc_cell": false,
   "toc_position": {},
   "toc_section_display": true,
   "toc_window_display": false
  }
 },
 "nbformat": 4,
 "nbformat_minor": 4
}
